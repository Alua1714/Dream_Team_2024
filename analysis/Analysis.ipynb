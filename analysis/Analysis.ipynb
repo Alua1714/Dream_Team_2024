{
 "cells": [
  {
   "cell_type": "markdown",
   "metadata": {},
   "source": [
    "## ANALYSIS OF THE DATASET\n",
    "\n"
   ]
  },
  {
   "cell_type": "code",
   "execution_count": 3,
   "metadata": {},
   "outputs": [],
   "source": [
    "import pandas as pd\n",
    "import numpy as np\n",
    "import os\n",
    "from pathlib import Path\n"
   ]
  },
  {
   "cell_type": "code",
   "execution_count": 4,
   "metadata": {},
   "outputs": [
    {
     "name": "stdout",
     "output_type": "stream",
     "text": [
      "Test file path: c:\\Users\\delos\\Documents\\GitHub\\Dream_Team_2024\\dataset\\test.csv\n",
      "Train file path: c:\\Users\\delos\\Documents\\GitHub\\Dream_Team_2024\\dataset\\train.csv\n"
     ]
    }
   ],
   "source": [
    "# Get the parent directory of the current working directory and append 'dataset'\n",
    "parent_dir = os.path.abspath(os.path.join(os.getcwd(), '..', 'dataset'))\n",
    "\n",
    "# Construct the paths for 'test.csv' and 'train.csv'\n",
    "test_file = os.path.abspath(os.path.join(parent_dir, 'test.csv'))\n",
    "train_file = os.path.abspath(os.path.join(parent_dir, 'train.csv'))\n",
    "\n",
    "# Print the paths of the different files\n",
    "print(\"Test file path:\", test_file)\n",
    "print(\"Train file path:\", train_file)\n"
   ]
  },
  {
   "cell_type": "code",
   "execution_count": 5,
   "metadata": {},
   "outputs": [],
   "source": [
    "df_test = pd.read_csv(test_file, sep=',', low_memory=False)\n",
    "df_train = pd.read_csv(train_file, sep=',', low_memory=False)"
   ]
  },
  {
   "cell_type": "code",
   "execution_count": null,
   "metadata": {},
   "outputs": [
    {
     "ename": "TypeError",
     "evalue": "TextIOWrapper.write() takes exactly one argument (2 given)",
     "output_type": "error",
     "traceback": [
      "\u001b[1;31m---------------------------------------------------------------------------\u001b[0m",
      "\u001b[1;31mTypeError\u001b[0m                                 Traceback (most recent call last)",
      "Cell \u001b[1;32mIn[8], line 7\u001b[0m\n\u001b[0;32m      4\u001b[0m \u001b[38;5;28;01mfor\u001b[39;00m df, df_name \u001b[38;5;129;01min\u001b[39;00m dataframes:\n\u001b[0;32m      5\u001b[0m     \u001b[38;5;28;01mwith\u001b[39;00m \u001b[38;5;28mopen\u001b[39m(\u001b[38;5;124mf\u001b[39m\u001b[38;5;124m'\u001b[39m\u001b[38;5;132;01m{\u001b[39;00mdf_name\u001b[38;5;132;01m}\u001b[39;00m\u001b[38;5;124m_column_info.txt\u001b[39m\u001b[38;5;124m'\u001b[39m, \u001b[38;5;124m'\u001b[39m\u001b[38;5;124mw\u001b[39m\u001b[38;5;124m'\u001b[39m) \u001b[38;5;28;01mas\u001b[39;00m file:\n\u001b[0;32m      6\u001b[0m         \u001b[38;5;66;03m# Write the header or an introductory text (optional)\u001b[39;00m\n\u001b[1;32m----> 7\u001b[0m         \u001b[43mfile\u001b[49m\u001b[38;5;241;43m.\u001b[39;49m\u001b[43mwrite\u001b[49m\u001b[43m(\u001b[49m\u001b[38;5;124;43m\"\u001b[39;49m\u001b[38;5;124;43mColumn Name | Non-null Count\u001b[39;49m\u001b[38;5;130;43;01m\\n\u001b[39;49;00m\u001b[38;5;124;43m\"\u001b[39;49m\u001b[43m,\u001b[49m\u001b[43m \u001b[49m\u001b[38;5;28;43mlen\u001b[39;49m\u001b[43m(\u001b[49m\u001b[43mdf\u001b[49m\u001b[43m)\u001b[49m\u001b[43m)\u001b[49m\n\u001b[0;32m      8\u001b[0m         file\u001b[38;5;241m.\u001b[39mwrite(\u001b[38;5;124m\"\u001b[39m\u001b[38;5;124m-\u001b[39m\u001b[38;5;124m\"\u001b[39m \u001b[38;5;241m*\u001b[39m \u001b[38;5;241m40\u001b[39m \u001b[38;5;241m+\u001b[39m \u001b[38;5;124m\"\u001b[39m\u001b[38;5;130;01m\\n\u001b[39;00m\u001b[38;5;124m\"\u001b[39m)\n\u001b[0;32m     10\u001b[0m         \u001b[38;5;66;03m# Iterate through each column and write the count of non-null values to the file\u001b[39;00m\n",
      "\u001b[1;31mTypeError\u001b[0m: TextIOWrapper.write() takes exactly one argument (2 given)"
     ]
    }
   ],
   "source": [
    "dataframes = [(df_train, 'df_train'), (df_test, 'df_test')]\n",
    "\n",
    "# Iterate through each DataFrame and save column info to a text file\n",
    "for df, df_name in dataframes:\n",
    "    with open(f'{df_name}_column_info.txt', 'w') as file:\n",
    "        # Write the header with the column name and non-null count\n",
    "        file.write(\"Column Name | Non-null Count | Proportion of Non-null\\n\")\n",
    "        file.write(\"-\" * 50 + \"\\n\")\n",
    "        \n",
    "        # Iterate through each column and write the count and proportion of non-null values\n",
    "        total_rows = len(df)  # Total number of rows in the DataFrame\n",
    "        for column in df.columns:\n",
    "            non_null_count = df[column].notnull().sum()  # Count of non-null values\n",
    "            non_null_proportion = non_null_count / total_rows  # Proportion of non-null values\n",
    "            file.write(f\"{column} | {non_null_count} | {non_null_proportion:.4f}\\n\")  # Format the proportion to 4 decimal places\n",
    "\n",
    "    print(f\"Data has been written to '{df_name}_column_info.txt'\")"
   ]
  }
 ],
 "metadata": {
  "kernelspec": {
   "display_name": "Python 3",
   "language": "python",
   "name": "python3"
  },
  "language_info": {
   "codemirror_mode": {
    "name": "ipython",
    "version": 3
   },
   "file_extension": ".py",
   "mimetype": "text/x-python",
   "name": "python",
   "nbconvert_exporter": "python",
   "pygments_lexer": "ipython3",
   "version": "3.12.7"
  }
 },
 "nbformat": 4,
 "nbformat_minor": 2
}
