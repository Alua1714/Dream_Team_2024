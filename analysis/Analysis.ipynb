{
 "cells": [
  {
   "cell_type": "markdown",
   "metadata": {},
   "source": [
    "## ANALYSIS OF THE DATASET\n",
    "\n"
   ]
  },
  {
   "cell_type": "code",
   "execution_count": 3,
   "metadata": {},
   "outputs": [],
   "source": [
    "import pandas as pd\n",
    "import numpy as np\n",
    "import os\n",
    "from pathlib import Path\n"
   ]
  },
  {
   "cell_type": "code",
   "execution_count": 4,
   "metadata": {},
   "outputs": [
    {
     "name": "stdout",
     "output_type": "stream",
     "text": [
      "Test file path: c:\\Users\\delos\\Documents\\GitHub\\Dream_Team_2024\\dataset\\test.csv\n",
      "Train file path: c:\\Users\\delos\\Documents\\GitHub\\Dream_Team_2024\\dataset\\train.csv\n"
     ]
    }
   ],
   "source": [
    "# Get the parent directory of the current working directory and append 'dataset'\n",
    "parent_dir = os.path.abspath(os.path.join(os.getcwd(), '..', 'dataset'))\n",
    "\n",
    "# Construct the paths for 'test.csv' and 'train.csv'\n",
    "test_file = os.path.abspath(os.path.join(parent_dir, 'test.csv'))\n",
    "train_file = os.path.abspath(os.path.join(parent_dir, 'train.csv'))\n",
    "\n",
    "# Print the paths of the different files\n",
    "print(\"Test file path:\", test_file)\n",
    "print(\"Train file path:\", train_file)\n"
   ]
  },
  {
   "cell_type": "code",
   "execution_count": 5,
   "metadata": {},
   "outputs": [],
   "source": [
    "df_test = pd.read_csv(test_file, sep=',', low_memory=False)\n",
    "df_train = pd.read_csv(train_file, sep=',', low_memory=False)"
   ]
  },
  {
   "cell_type": "code",
   "execution_count": 7,
   "metadata": {},
   "outputs": [
    {
     "name": "stdout",
     "output_type": "stream",
     "text": [
      "Data has been written to 'df_train_column_info.txt'\n",
      "Data has been written to 'df_test_column_info.txt'\n"
     ]
    }
   ],
   "source": [
    "dataframes = [(df_train, 'df_train'), (df_test, 'df_test')]\n",
    "\n",
    "# Iterate through each DataFrame and save column info to a text file\n",
    "for df, df_name in dataframes:\n",
    "    with open(f'{df_name}_column_info.txt', 'w') as file:\n",
    "        # Write the header or an introductory text (optional)\n",
    "        file.write(\"Column Name | Non-null Count\\n\")\n",
    "        file.write(\"-\" * 40 + \"\\n\")\n",
    "        \n",
    "        # Iterate through each column and write the count of non-null values to the file\n",
    "        for column in df.columns:\n",
    "            non_null_count = df[column].notnull().sum()  # Count of non-null values\n",
    "            file.write(f\"{column} | {non_null_count}\\n\")\n",
    "\n",
    "    print(f\"Data has been written to '{df_name}_column_info.txt'\")\n"
   ]
  }
 ],
 "metadata": {
  "kernelspec": {
   "display_name": "Python 3",
   "language": "python",
   "name": "python3"
  },
  "language_info": {
   "codemirror_mode": {
    "name": "ipython",
    "version": 3
   },
   "file_extension": ".py",
   "mimetype": "text/x-python",
   "name": "python",
   "nbconvert_exporter": "python",
   "pygments_lexer": "ipython3",
   "version": "3.12.7"
  }
 },
 "nbformat": 4,
 "nbformat_minor": 2
}
