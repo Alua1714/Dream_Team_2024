{
 "cells": [
  {
   "cell_type": "markdown",
   "metadata": {},
   "source": [
    "## ANALYSIS OF THE DATASET\n",
    "\n"
   ]
  },
  {
   "cell_type": "code",
   "execution_count": 200,
   "metadata": {},
   "outputs": [],
   "source": [
    "import pandas as pd\n",
    "import numpy as np\n",
    "import os\n",
    "from pathlib import Path\n",
    "import ast\n"
   ]
  },
  {
   "cell_type": "code",
   "execution_count": 201,
   "metadata": {},
   "outputs": [
    {
     "name": "stdout",
     "output_type": "stream",
     "text": [
      "Test file path: c:\\Users\\eloip\\Documents\\datathon_2024\\Dream_Team_2024\\dataset\\test.csv\n",
      "Train file path: c:\\Users\\eloip\\Documents\\datathon_2024\\Dream_Team_2024\\dataset\\train.csv\n"
     ]
    }
   ],
   "source": [
    "# Get the parent directory of the current working directory and append 'dataset'\n",
    "parent_dir = os.path.abspath(os.path.join(os.getcwd(), '..', 'dataset'))\n",
    "\n",
    "# Construct the paths for 'test.csv' and 'train.csv'\n",
    "test_file = os.path.abspath(os.path.join(parent_dir, 'test.csv'))\n",
    "train_file = os.path.abspath(os.path.join(parent_dir, 'train.csv'))\n",
    "\n",
    "# Print the paths of the different files\n",
    "print(\"Test file path:\", test_file)\n",
    "print(\"Train file path:\", train_file)\n"
   ]
  },
  {
   "cell_type": "code",
   "execution_count": 202,
   "metadata": {},
   "outputs": [],
   "source": [
    "df_test = pd.read_csv(test_file, sep=',', low_memory=False)\n",
    "df_train = pd.read_csv(train_file, sep=',', low_memory=False)\n"
   ]
  },
  {
   "cell_type": "code",
   "execution_count": null,
   "metadata": {},
   "outputs": [
    {
     "name": "stdout",
     "output_type": "stream",
     "text": [
      "Data has been written to 'df_train_column_info.md'\n",
      "Data has been written to 'df_test_column_info.md'\n"
     ]
    }
   ],
   "source": [
    "# List of dataframes and their corresponding names\n",
    "dataframes = [(df_train, 'df_train'), (df_test, 'df_test')]\n",
    "\n",
    "diff = {'df_test': [], 'df_train': []}\n",
    "\n",
    "# Iterate through each DataFrame and save column info to a markdown file\n",
    "for df, df_name in dataframes:\n",
    "    with open(f'{df_name}_column_info.md', 'w') as file:\n",
    "        # Write the header for the markdown table\n",
    "        file.write(\"| Column Name | Non-null Count | Proportion of Non-null | number of unique\\n\")\n",
    "        file.write(\"|--------------|----------------|------------------------| ------------------\\n\")\n",
    "        \n",
    "        # Iterate through each column and write the count and proportion of non-null values\n",
    "        total_rows = len(df)  # Total number of rows in the DataFrame\n",
    "        for column in df.columns:\n",
    "            non_null_count = df[column].notnull().sum()  # Count of non-null values\n",
    "            non_null_proportion = non_null_count / total_rows  # Proportion of non-null values\n",
    "            unique_count = df[column].nunique()  # Number of unique values\n",
    "\n",
    "            # Write the row to the markdown file\n",
    "            diff[df_name].append(non_null_proportion)\n",
    "            file.write(f\"| {column} | {non_null_count} | {non_null_proportion:.4f} | {unique_count} |\\n\")\n",
    "\n",
    "    print(f\"Data has been written to '{df_name}_column_info.md'\")\n",
    "\n",
    "\n",
    "\n",
    "with open(f'column_difference.md', 'w') as file:\n",
    "    file.write(\"| Column Name | Non-null Difference |\\n\")\n",
    "    file.write(\"|--------------|----------------|\\n\")\n",
    "    for i, col in enumerate(df_test):\n",
    "        file.write(f\"| {col} | {abs(diff['df_test'][i] - diff['df_train'][i])}|\\n\")"
   ]
  },
  {
   "cell_type": "code",
   "execution_count": 204,
   "metadata": {},
   "outputs": [
    {
     "name": "stdout",
     "output_type": "stream",
     "text": [
      "91576\n",
      "19139\n"
     ]
    }
   ],
   "source": [
    "#Donat un percentatge dona el nombre de files que \n",
    "# tenen més d'aquest percentatge de cols not null \n",
    "for df, df_name in dataframes:\n",
    "    threshold = 0.7 # Convert percentage to proportion\n",
    "    non_null_fraction_per_row = df.notnull().mean(axis=1)  # Fraction of non-null columns for each row\n",
    "    rows_above_threshold = (non_null_fraction_per_row > threshold).sum()  # Count rows above the threshold\n",
    "    print(rows_above_threshold)"
   ]
  }
 ],
 "metadata": {
  "kernelspec": {
   "display_name": "Python 3",
   "language": "python",
   "name": "python3"
  },
  "language_info": {
   "codemirror_mode": {
    "name": "ipython",
    "version": 3
   },
   "file_extension": ".py",
   "mimetype": "text/x-python",
   "name": "python",
   "nbconvert_exporter": "python",
   "pygments_lexer": "ipython3",
   "version": "3.10.12"
  }
 },
 "nbformat": 4,
 "nbformat_minor": 2
}
