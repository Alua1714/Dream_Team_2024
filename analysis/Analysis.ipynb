{
 "cells": [
  {
   "cell_type": "markdown",
   "metadata": {},
   "source": [
    "## ANALYSIS OF THE DATASET\n",
    "\n"
   ]
  },
  {
   "cell_type": "code",
   "execution_count": 200,
   "metadata": {},
   "outputs": [],
   "source": [
    "import pandas as pd\n",
    "import numpy as np\n",
    "import os\n",
    "from pathlib import Path\n",
    "import ast\n"
   ]
  },
  {
   "cell_type": "code",
   "execution_count": 201,
   "metadata": {},
   "outputs": [
    {
     "name": "stdout",
     "output_type": "stream",
     "text": [
      "Test file path: c:\\Users\\eloip\\Documents\\datathon_2024\\Dream_Team_2024\\dataset\\test.csv\n",
      "Train file path: c:\\Users\\eloip\\Documents\\datathon_2024\\Dream_Team_2024\\dataset\\train.csv\n"
     ]
    }
   ],
   "source": [
    "# Get the parent directory of the current working directory and append 'dataset'\n",
    "parent_dir = os.path.abspath(os.path.join(os.getcwd(), '..', 'dataset'))\n",
    "\n",
    "# Construct the paths for 'test.csv' and 'train.csv'\n",
    "test_file = os.path.abspath(os.path.join(parent_dir, 'test.csv'))\n",
    "train_file = os.path.abspath(os.path.join(parent_dir, 'train.csv'))\n",
    "\n",
    "# Print the paths of the different files\n",
    "print(\"Test file path:\", test_file)\n",
    "print(\"Train file path:\", train_file)\n"
   ]
  },
  {
   "cell_type": "code",
   "execution_count": 202,
   "metadata": {},
   "outputs": [],
   "source": [
    "df_test = pd.read_csv(test_file, sep=',', low_memory=False)\n",
    "df_train = pd.read_csv(train_file, sep=',', low_memory=False)\n"
   ]
  },
  {
   "cell_type": "code",
   "execution_count": 203,
   "metadata": {},
   "outputs": [
    {
     "name": "stdout",
     "output_type": "stream",
     "text": [
      "Data has been written to 'df_train_column_info.md'\n",
      "Data has been written to 'df_test_column_info.md'\n"
     ]
    }
   ],
   "source": [
    "# List of dataframes and their corresponding names\n",
    "dataframes = [(df_train, 'df_train'), (df_test, 'df_test')]\n",
    "\n",
    "diff = {'df_test': [], 'df_train': []}\n",
    "\n",
    "# Iterate through each DataFrame and save column info to a markdown file\n",
    "for df, df_name in dataframes:\n",
    "    with open(f'{df_name}_column_info.md', 'w') as file:\n",
    "        # Write the header for the markdown table\n",
    "        file.write(\"| Column Name | Non-null Count | Proportion of Non-null | number of unique\\n\")\n",
    "        file.write(\"|--------------|----------------|------------------------| ------------------\\n\")\n",
    "        \n",
    "        # Iterate through each column and write the count and proportion of non-null values\n",
    "        total_rows = len(df)  # Total number of rows in the DataFrame\n",
    "        for column in df.columns:\n",
    "            non_null_count = df[column].notnull().sum()  # Count of non-null values\n",
    "            non_null_proportion = non_null_count / total_rows  # Proportion of non-null values\n",
    "            unique_count = df[column].nunique()  # Number of unique values\n",
    "\n",
    "            # Write the row to the markdown file\n",
    "            diff[df_name].append(non_null_proportion)\n",
    "            file.write(f\"| {column} | {non_null_count} | {non_null_proportion:.4f} | {unique_count} |\\n\")\n",
    "\n",
    "    print(f\"Data has been written to '{df_name}_column_info.md'\")\n",
    "\n",
    "\n",
    "\n",
    "with open(f'column_difference.md', 'w') as file:\n",
    "    file.write(\"| Column Name | Non-null Difference |\\n\")\n",
    "    file.write(\"|--------------|----------------|\\n\")\n",
    "    for i, col in enumerate(df_test):\n",
    "        file.write(f\"| {col} | {abs(diff['df_test'][i] - diff['df_train'][i])}|\\n\")"
   ]
  },
  {
   "cell_type": "code",
   "execution_count": 204,
   "metadata": {},
   "outputs": [
    {
     "name": "stdout",
     "output_type": "stream",
     "text": [
      "91576\n",
      "19139\n"
     ]
    }
   ],
   "source": [
    "#Donat un percentatge dona el nombre de files que \n",
    "# tenen més d'aquest percentatge de cols not null \n",
    "for df, df_name in dataframes:\n",
    "    threshold = 0.7 # Convert percentage to proportion\n",
    "    non_null_fraction_per_row = df.notnull().mean(axis=1)  # Fraction of non-null columns for each row\n",
    "    rows_above_threshold = (non_null_fraction_per_row > threshold).sum()  # Count rows above the threshold\n",
    "    print(rows_above_threshold)"
   ]
  },
  {
   "cell_type": "code",
   "execution_count": 205,
   "metadata": {},
   "outputs": [],
   "source": [
    "def convert_columns_to_int(df):\n",
    "    for col in df.columns:\n",
    "        try:\n",
    "            # Try to convert the column to integers\n",
    "            df[col] = df[col].astype(np.int64)\n",
    "        except ValueError:\n",
    "            try:\n",
    "                df[col] = df[col].astype(np.float32)\n",
    "            except:\n",
    "                #not possible:\n",
    "                pass\n",
    "            pass\n",
    "    return df\n",
    "\n",
    "for df, df_name in dataframes:\n",
    "    df = convert_columns_to_int(df)\n"
   ]
  },
  {
   "cell_type": "code",
   "execution_count": 206,
   "metadata": {},
   "outputs": [],
   "source": [
    "\n",
    "# Function to convert string representations to actual lists\n",
    "def string_to_list(input_string):\n",
    "    if isinstance(input_string, str):  # Only process strings\n",
    "        try:\n",
    "            result = ast.literal_eval(input_string)\n",
    "            return result\n",
    "        except (ValueError, SyntaxError):\n",
    "            return []  # Return empty list if parsing fails\n",
    "    return input_string  # Return original value if not a string\n",
    "\n",
    "# Function to create one-hot encoding from a column of lists\n",
    "def one_hot_from_list(df, column_name):\n",
    "    # Replace NaN or invalid entries with empty lists\n",
    "    df[column_name] = df[column_name].apply(lambda x: x if isinstance(x, list) else [])\n",
    "    \n",
    "    # Get all unique elements from the lists in the specified column\n",
    "    unique_elements = set(element for lst in df[column_name] for element in lst)\n",
    "    # Iterate through each unique element and create a one-hot encoded column\n",
    "    for element in unique_elements:\n",
    "        one_hot_col_name = f\"one_hot_{element}\"\n",
    "        df[one_hot_col_name] = df[column_name].apply(lambda lst: 1 if element in lst else 0)\n",
    "\n",
    "    return df\n",
    "\n",
    "# Example Usage\n",
    "columns_to_one_hot = [\"Characteristics.LotFeatures\"]\n",
    "rest_not_used = [\"ImageData.features_reso.results\",\"ImageData.room_type_reso.results\",\"Structure.Cooling\",\"Structure.Heating\",\n",
    "                       \"Structure.ParkingFeatures\"]\n",
    "                     \n",
    "\n",
    "for df, df_name in dataframes:\n",
    "    for col in columns_to_one_hot:\n",
    "        df[col] = df[col].apply(string_to_list)  # Convert strings to lists\n",
    "        df = one_hot_from_list(df, col)  # Apply one-hot encoding\n"
   ]
  },
  {
   "cell_type": "code",
   "execution_count": 207,
   "metadata": {},
   "outputs": [
    {
     "name": "stdout",
     "output_type": "stream",
     "text": [
      "110\n",
      "{dtype('int64'), dtype('O'), dtype('float32')}\n",
      "Dataset saved to c:\\Users\\eloip\\Documents\\datathon_2024\\Dream_Team_2024\\dataset\\df_train.csv\n",
      "109\n",
      "{dtype('int64'), dtype('O'), dtype('float32')}\n",
      "Dataset saved to c:\\Users\\eloip\\Documents\\datathon_2024\\Dream_Team_2024\\dataset\\df_test.csv\n"
     ]
    }
   ],
   "source": [
    "def get_column_types(df):\n",
    "    return df.dtypes\n",
    "\n",
    "def get_unique_types(df):\n",
    "    return set(df.dtypes)\n",
    "\n",
    "def save_dataset(df, filename):\n",
    "    df.to_csv(filename, index=False)\n",
    "    print(f\"Dataset saved to {filename}\")\n",
    "\n",
    "for df, df_name in dataframes:\n",
    "    print(len(df.columns.tolist()))\n",
    "    #print(get_column_types(df))\n",
    "    print(get_unique_types(df))\n",
    "    #print(df[\"ImageData.style.stories.summary.label\"])\n",
    "    p = os.path.abspath(os.path.join(parent_dir, f'{df_name}.csv'))\n",
    "    save_dataset(df, p)\n",
    "\n",
    "\n",
    "\n"
   ]
  },
  {
   "cell_type": "code",
   "execution_count": null,
   "metadata": {},
   "outputs": [],
   "source": []
  }
 ],
 "metadata": {
  "kernelspec": {
   "display_name": "Python 3",
   "language": "python",
   "name": "python3"
  },
  "language_info": {
   "codemirror_mode": {
    "name": "ipython",
    "version": 3
   },
   "file_extension": ".py",
   "mimetype": "text/x-python",
   "name": "python",
   "nbconvert_exporter": "python",
   "pygments_lexer": "ipython3",
   "version": "3.10.12"
  }
 },
 "nbformat": 4,
 "nbformat_minor": 2
}
